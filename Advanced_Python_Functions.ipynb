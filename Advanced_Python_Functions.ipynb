{
  "nbformat": 4,
  "nbformat_minor": 0,
  "metadata": {
    "colab": {
      "provenance": [],
      "authorship_tag": "ABX9TyPbyyg14Vz2Uj9kCcIiIgr0",
      "include_colab_link": true
    },
    "kernelspec": {
      "name": "python3",
      "display_name": "Python 3"
    },
    "language_info": {
      "name": "python"
    }
  },
  "cells": [
    {
      "cell_type": "markdown",
      "metadata": {
        "id": "view-in-github",
        "colab_type": "text"
      },
      "source": [
        "<a href=\"https://colab.research.google.com/github/KIISIISHERE/Advanced-Python-Functions/blob/main/Advanced_Python_Functions.ipynb\" target=\"_parent\"><img src=\"https://colab.research.google.com/assets/colab-badge.svg\" alt=\"Open In Colab\"/></a>"
      ]
    },
    {
      "cell_type": "code",
      "execution_count": 1,
      "metadata": {
        "id": "aEpTQFDUvaws",
        "colab": {
          "base_uri": "https://localhost:8080/"
        },
        "collapsed": true,
        "outputId": "ea0a978e-140d-490d-ddb9-805b4476bc9d"
      },
      "outputs": [
        {
          "output_type": "stream",
          "name": "stdout",
          "text": [
            "Sum of elements from two lists: [6, 8, 10, 12]\n",
            "Squares of elements in list3: [4, 16, 36, 64]\n"
          ]
        }
      ],
      "source": [
        "# Lists for addition\n",
        "list1 = [1, 2, 3, 4]\n",
        "list2 = [5, 6, 7, 8]\n",
        "# Adding corresponding elements using map() and lambda\n",
        "added_list = list(map(lambda x, y: x + y, list1, list2))\n",
        "print(\"Sum of elements from two lists:\", added_list)\n",
        "# List for squaring\n",
        "list3 = [2, 4, 6, 8]\n",
        "# Getting the square of each element using map() and lambda\n",
        "squared_list = list(map(lambda x: x ** 2, list3))\n",
        "print(\"Squares of elements in list3:\", squared_list)"
      ]
    },
    {
      "cell_type": "code",
      "source": [
        "# Define 2 sample lists\n",
        "list1 = ['a', 'b', 'c', 'd']\n",
        "list2 = [1, 2, 3, 4]\n",
        "# 1. Zipped list from 2 lists\n",
        "zipped_list = list(zip(list1, list2))\n",
        "print(\"Zipped list:\", zipped_list)\n",
        "# 2. Zipped list with the second list reversed\n",
        "zipped_reversed = list(zip(list1, reversed(list2)))\n",
        "print(\"Zipped with the reversed second list:\", zipped_reversed)\n",
        "# 3. Zipped into a dictionary\n",
        "zipped_dict = dict(zip(list1, list2))\n",
        "print(\"Zipped into a dictionary:\", zipped_dict)"
      ],
      "metadata": {
        "colab": {
          "base_uri": "https://localhost:8080/"
        },
        "collapsed": true,
        "id": "rw2i4eCzzMn_",
        "outputId": "5122f2ef-eec1-4943-8467-a2ee817c2c83"
      },
      "execution_count": 2,
      "outputs": [
        {
          "output_type": "stream",
          "name": "stdout",
          "text": [
            "Zipped list: [('a', 1), ('b', 2), ('c', 3), ('d', 4)]\n",
            "Zipped with the reversed second list: [('a', 4), ('b', 3), ('c', 2), ('d', 1)]\n",
            "Zipped into a dictionary: {'a': 1, 'b': 2, 'c': 3, 'd': 4}\n"
          ]
        }
      ]
    },
    {
      "cell_type": "code",
      "source": [
        "import sys\n",
        "for i in range(1, 11):\n",
        "  print(\"Current value of i:\", i)\n",
        "  if i == 5:\n",
        "    print(\"i is 5, exiting the program.\")\n",
        "    sys.exit()"
      ],
      "metadata": {
        "colab": {
          "base_uri": "https://localhost:8080/",
          "height": 248
        },
        "id": "GItXtSfY2Uon",
        "outputId": "b64a3c39-7240-40cf-9065-a9475eb0c83b"
      },
      "execution_count": 5,
      "outputs": [
        {
          "output_type": "stream",
          "name": "stdout",
          "text": [
            "Current value of i: 1\n",
            "Current value of i: 2\n",
            "Current value of i: 3\n",
            "Current value of i: 4\n",
            "Current value of i: 5\n",
            "i is 5, exiting the program.\n"
          ]
        },
        {
          "output_type": "error",
          "ename": "SystemExit",
          "evalue": "",
          "traceback": [
            "An exception has occurred, use %tb to see the full traceback.\n",
            "\u001b[0;31mSystemExit\u001b[0m\n"
          ]
        },
        {
          "output_type": "stream",
          "name": "stderr",
          "text": [
            "/usr/local/lib/python3.11/dist-packages/IPython/core/interactiveshell.py:3561: UserWarning: To exit: use 'exit', 'quit', or Ctrl-D.\n",
            "  warn(\"To exit: use 'exit', 'quit', or Ctrl-D.\", stacklevel=1)\n"
          ]
        }
      ]
    }
  ]
}